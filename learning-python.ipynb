{
 "cells": [
  {
   "cell_type": "code",
   "execution_count": 3,
   "id": "f40e696b",
   "metadata": {},
   "outputs": [
    {
     "name": "stdout",
     "output_type": "stream",
     "text": [
      "hello world\n"
     ]
    }
   ],
   "source": [
    "print('hello world') #sample program\n"
   ]
  },
  {
   "cell_type": "code",
   "execution_count": 9,
   "id": "337618b9",
   "metadata": {},
   "outputs": [
    {
     "name": "stdout",
     "output_type": "stream",
     "text": [
      "5 is greater\n",
      "5 is greater than 2\n"
     ]
    }
   ],
   "source": [
    "# Python was designed for readability, and has some similarities to the English language with influence from mathematics.\n",
    "# Python uses new lines to complete a command, as opposed to other programming languages which often use semicolons or \n",
    "# parentheses.\n",
    "# Python relies on indentation, using whitespace, to define scope; such as the scope of loops, functions and classes. \n",
    "# Other programming languages often use curly-brackets for this purpose. \n",
    "\n",
    "if 5>2 :\n",
    "    print('5 is greater')\n",
    "\n",
    "if 5>2 :\n",
    "      print('5 is greater than 2')"
   ]
  },
  {
   "cell_type": "code",
   "execution_count": 18,
   "id": "7d937f9b",
   "metadata": {},
   "outputs": [
    {
     "name": "stdout",
     "output_type": "stream",
     "text": [
      "5 hello world\n"
     ]
    }
   ],
   "source": [
    "x=5\n",
    "y=\"hello world\" # in string we can use either single or double quotes\n",
    "print(x,y) # concatenation is not possible if the data types are different \n"
   ]
  },
  {
   "cell_type": "code",
   "execution_count": 19,
   "id": "a0a02d27",
   "metadata": {},
   "outputs": [
    {
     "name": "stdout",
     "output_type": "stream",
     "text": [
      "4 akhil binu\n"
     ]
    }
   ],
   "source": [
    "a=4\n",
    "A='akhil binu'\n",
    "print(a,A) # python is case sensitive a will not overwritten in uppercase A"
   ]
  },
  {
   "cell_type": "code",
   "execution_count": 23,
   "id": "714ab2b0",
   "metadata": {},
   "outputs": [],
   "source": [
    "# Variable rule in python\n",
    "\n",
    "# A variable name must start with a letter or the underscore character\n",
    "# A variable name cannot start with a number\n",
    "# A variable name can only contain alpha-numeric characters and underscores (A-z, 0-9, and _ )\n",
    "# Variable names are case-sensitive (age, Age and AGE are three different variables)\n",
    "# A variable name cannot be any of the Python keywords.\n",
    "\n",
    "myvar=2\n",
    "_myvar=5\n",
    "_my_Var=10\n",
    "myVar2 = 20\n",
    "Myvar = 30\n",
    "MYVAR = 20\n",
    "\n",
    "# -------------------------------# Variable names with more than one word can be difficult to read.-----------------------------\n",
    "\n",
    "# There are several techniques you can use to make them more readable:\n",
    "\n",
    "# Camel Case\n",
    "# Each word, except the first, starts with a capital letter:\n",
    "\n",
    "myVariableName = \"John\"\n",
    "\n",
    "# Pascal Case\n",
    "# Each word starts with a capital letter:\n",
    "\n",
    "MyVariableName = \"John\"\n",
    "\n",
    "# Snake Case\n",
    "# Each word is separated by an underscore character:\n",
    "\n",
    "my_variable_name = \"John\"\n",
    "\n",
    "#i think pascal case is a better choice in case of python"
   ]
  },
  {
   "cell_type": "code",
   "execution_count": 2,
   "id": "12ef1bef",
   "metadata": {},
   "outputs": [
    {
     "name": "stdout",
     "output_type": "stream",
     "text": [
      "apple orange banana\n"
     ]
    }
   ],
   "source": [
    "x,y,z = 'apple','orange','banana' #we can use this method to assgn value\n",
    "print(x,y,z)"
   ]
  },
  {
   "cell_type": "code",
   "execution_count": 4,
   "id": "67f5a326",
   "metadata": {},
   "outputs": [
    {
     "name": "stdout",
     "output_type": "stream",
     "text": [
      "orange orange orange\n"
     ]
    }
   ],
   "source": [
    "#another way of declaring variables\n",
    "\n",
    "x = y = z = 'orange' # here x,y,z has contain same value orange\n",
    "\n",
    "print(x,y,z)"
   ]
  },
  {
   "cell_type": "code",
   "execution_count": null,
   "id": "9ae081d9",
   "metadata": {},
   "outputs": [],
   "source": []
  },
  {
   "cell_type": "code",
   "execution_count": null,
   "id": "95327421",
   "metadata": {},
   "outputs": [],
   "source": []
  }
 ],
 "metadata": {
  "kernelspec": {
   "display_name": "Python 3 (ipykernel)",
   "language": "python",
   "name": "python3"
  },
  "language_info": {
   "codemirror_mode": {
    "name": "ipython",
    "version": 3
   },
   "file_extension": ".py",
   "mimetype": "text/x-python",
   "name": "python",
   "nbconvert_exporter": "python",
   "pygments_lexer": "ipython3",
   "version": "3.11.4"
  }
 },
 "nbformat": 4,
 "nbformat_minor": 5
}
