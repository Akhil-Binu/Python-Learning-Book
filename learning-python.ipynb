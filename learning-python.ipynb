{
 "cells": [
  {
   "cell_type": "code",
   "execution_count": 1,
   "id": "f40e696b",
   "metadata": {},
   "outputs": [
    {
     "name": "stdout",
     "output_type": "stream",
     "text": [
      "hello world\n"
     ]
    }
   ],
   "source": [
    "print('hello world') #sample program\n"
   ]
  },
  {
   "cell_type": "code",
   "execution_count": 2,
   "id": "337618b9",
   "metadata": {},
   "outputs": [
    {
     "name": "stdout",
     "output_type": "stream",
     "text": [
      "5 is greater\n",
      "5 is greater than 2\n"
     ]
    }
   ],
   "source": [
    "# Python was designed for readability, and has some similarities to the English language with influence from mathematics.\n",
    "# Python uses new lines to complete a command, as opposed to other programming languages which often use semicolons or \n",
    "# parentheses.\n",
    "# Python relies on indentation, using whitespace, to define scope; such as the scope of loops, functions and classes. \n",
    "# Other programming languages often use curly-brackets for this purpose. \n",
    "\n",
    "if 5>2 :\n",
    "    print('5 is greater')\n",
    "\n",
    "if 5>2 :\n",
    "      print('5 is greater than 2')"
   ]
  },
  {
   "cell_type": "code",
   "execution_count": 3,
   "id": "7d937f9b",
   "metadata": {},
   "outputs": [
    {
     "name": "stdout",
     "output_type": "stream",
     "text": [
      "5 hello world\n"
     ]
    }
   ],
   "source": [
    "x=5\n",
    "y=\"hello world\" # in string we can use either single or double quotes\n",
    "print(x,y) # concatenation is not possible if the data types are different \n"
   ]
  },
  {
   "cell_type": "code",
   "execution_count": 4,
   "id": "a0a02d27",
   "metadata": {},
   "outputs": [
    {
     "name": "stdout",
     "output_type": "stream",
     "text": [
      "4 akhil binu\n"
     ]
    }
   ],
   "source": [
    "a=4\n",
    "A='akhil binu'\n",
    "print(a,A) # python is case sensitive a will not overwritten in uppercase A"
   ]
  },
  {
   "cell_type": "code",
   "execution_count": 5,
   "id": "714ab2b0",
   "metadata": {},
   "outputs": [],
   "source": [
    "# Variable rule in python\n",
    "\n",
    "# A variable name must start with a letter or the underscore character\n",
    "# A variable name cannot start with a number\n",
    "# A variable name can only contain alpha-numeric characters and underscores (A-z, 0-9, and _ )\n",
    "# Variable names are case-sensitive (age, Age and AGE are three different variables)\n",
    "# A variable name cannot be any of the Python keywords.\n",
    "\n",
    "myvar=2\n",
    "_myvar=5\n",
    "_my_Var=10\n",
    "myVar2 = 20\n",
    "Myvar = 30\n",
    "MYVAR = 20\n",
    "\n",
    "# -------------------------------# Variable names with more than one word can be difficult to read.-----------------------------\n",
    "\n",
    "# There are several techniques you can use to make them more readable:\n",
    "\n",
    "# Camel Case\n",
    "# Each word, except the first, starts with a capital letter:\n",
    "\n",
    "myVariableName = \"John\"\n",
    "\n",
    "# Pascal Case\n",
    "# Each word starts with a capital letter:\n",
    "\n",
    "MyVariableName = \"John\"\n",
    "\n",
    "# Snake Case\n",
    "# Each word is separated by an underscore character:\n",
    "\n",
    "my_variable_name = \"John\"\n",
    "\n",
    "#i think pascal case is a better choice in case of python"
   ]
  },
  {
   "cell_type": "code",
   "execution_count": 6,
   "id": "12ef1bef",
   "metadata": {},
   "outputs": [
    {
     "name": "stdout",
     "output_type": "stream",
     "text": [
      "apple orange banana\n"
     ]
    }
   ],
   "source": [
    "x,y,z = 'apple','orange','banana' #we can use this method to assgn value\n",
    "print(x,y,z)"
   ]
  },
  {
   "cell_type": "code",
   "execution_count": 7,
   "id": "67f5a326",
   "metadata": {},
   "outputs": [
    {
     "name": "stdout",
     "output_type": "stream",
     "text": [
      "orange orange orange\n"
     ]
    }
   ],
   "source": [
    "#another way of declaring variables\n",
    "\n",
    "x = y = z = 'orange' # here x,y,z has contain same value orange\n",
    "\n",
    "print(x,y,z)"
   ]
  },
  {
   "cell_type": "code",
   "execution_count": 8,
   "id": "9ae081d9",
   "metadata": {},
   "outputs": [
    {
     "name": "stdout",
     "output_type": "stream",
     "text": [
      "apple orange banana\n"
     ]
    }
   ],
   "source": [
    "# Unpack a Collection\n",
    "\n",
    "# If you have a collection of values in a list, tuple etc. Python allows you to extract the values into variables. \n",
    "# This is called unpacking.\n",
    "\n",
    "# lets unpack a list\n",
    "\n",
    "\n",
    "MyFruits = ['apple','orange','banana']\n",
    "\n",
    "x,y,z = MyFruits #to unpack a list we must declare variable for all other values otherwise it will result in error\n",
    "# also not that decalaring a single variable it will assign the value only\n",
    "\n",
    "# n,k = MyFruits # check this to see error\n",
    "\n",
    "# print(n,k)\n",
    "\n",
    "print(x,y,z)\n"
   ]
  },
  {
   "cell_type": "code",
   "execution_count": 9,
   "id": "820170b7",
   "metadata": {},
   "outputs": [
    {
     "name": "stdout",
     "output_type": "stream",
     "text": [
      "30\n",
      "pythonisawesome\n"
     ]
    }
   ],
   "source": [
    "#concatenation in python\n",
    "\n",
    "x = \"python\"\n",
    "y = \"is\"\n",
    "z=  \"awesome\"\n",
    "\n",
    "\n",
    "# let see concatenation here the sign + symbol here is work as mathematical operator and joins the string \n",
    "\n",
    "#if both are number it will perform mathematical operation addition\n",
    "\n",
    "a=10\n",
    "b=20\n",
    "\n",
    "print(a+b) # here is  an example in case of integers\n",
    "\n",
    "print(x+y+z) # all the data type should be otherwise result in error in case of concatenation only"
   ]
  },
  {
   "cell_type": "code",
   "execution_count": 10,
   "id": "03b17b1f",
   "metadata": {},
   "outputs": [
    {
     "name": "stdout",
     "output_type": "stream",
     "text": [
      "python is awesome 3\n"
     ]
    }
   ],
   "source": [
    "x=\"python\"\n",
    "y=\"is\"\n",
    "z=\"awesome\"\n",
    "k= 3\n",
    "\n",
    "print(x,y,z,k) #here we can use all type of dataypes"
   ]
  },
  {
   "cell_type": "code",
   "execution_count": 11,
   "id": "95327421",
   "metadata": {},
   "outputs": [
    {
     "name": "stdout",
     "output_type": "stream",
     "text": [
      "hello Akhil Binu welcome to python programming\n"
     ]
    }
   ],
   "source": [
    " # ----------------------------------------Global Variables-----------------------------------------------------------------\n",
    "\n",
    "# Variables that are created outside of a function are known as global variables.\n",
    "# Global variables can be used by everyone, both inside and outside of functions.\n",
    "\n",
    "x=\"Akhil Binu\"\n",
    "\n",
    "def MyFunc():\n",
    "    print(\"hello \"+x+\" welcome to python programming\")\n",
    "\n",
    "MyFunc()\n"
   ]
  },
  {
   "cell_type": "code",
   "execution_count": 12,
   "id": "0f96e19d",
   "metadata": {},
   "outputs": [
    {
     "name": "stdout",
     "output_type": "stream",
     "text": [
      "akhil is a good boy\n",
      "awesome\n"
     ]
    }
   ],
   "source": [
    "# -----------------------------------------Function Example------------------------------------------------------------------\n",
    "x = \"awesome\"\n",
    "\n",
    "def MyFunc():\n",
    "    x =\"akhil is a good boy\"\n",
    "    return x\n",
    "\n",
    "print(MyFunc())\n",
    "\n",
    "print(x)\n"
   ]
  },
  {
   "cell_type": "code",
   "execution_count": 13,
   "id": "da4cce4a",
   "metadata": {},
   "outputs": [
    {
     "name": "stdout",
     "output_type": "stream",
     "text": [
      "value inside function is :  akhil binu\n",
      "value outside function is :  akhil binu\n"
     ]
    }
   ],
   "source": [
    "#declaration of global variable inside a function using global keyword\n",
    "\n",
    "def MyFunc():\n",
    "    global x # we can't directly assign value to global x it will result in syntax error\n",
    "    x = \"akhil binu\"\n",
    "    print(\"value inside function is : \",x)\n",
    "\n",
    "MyFunc()\n",
    "\n",
    "print(\"value outside function is : \",x)"
   ]
  },
  {
   "cell_type": "code",
   "execution_count": 37,
   "id": "9a1c124a",
   "metadata": {},
   "outputs": [
    {
     "name": "stdout",
     "output_type": "stream",
     "text": [
      "<class 'memoryview'>\n",
      "<class 'int'> <class 'str'>\n"
     ]
    }
   ],
   "source": [
    "# ------------------------------------------python variables------------------------------------------------------------\n",
    "\n",
    "carname=\"Volvo\" # string\n",
    "a = 5 #integer\n",
    "b = 20.6 # float\n",
    "c = 1j #complex\n",
    "d = [\"akhil\",\"athul\",\"ajith\",\"binu\"] #list\n",
    "e = ('akhil','athul') #tuple\n",
    "f = range(6) # range\n",
    "g = {\"name\" : \"Akhil Binu\" , \"Age\" : 21} #dictionary\n",
    "h = {\"akhil\",\"athul\"} # set\n",
    "i = frozenset({\"akhil\",\"athul\"}) # frozenset\n",
    "j = True #boolean use uppercase T & F in case of boolean value\n",
    "k = b\"Hello\"\n",
    "l = bytearray(5)\n",
    "m = memoryview(bytes(5))\n",
    "n = None # use uppercase in case of None datatype also\n",
    "\n",
    "\n",
    "# -----------------------------------------------setting up of datatype if necessarry use it----------------------------\n",
    "#like also in similar case we can convert the data type\n",
    "\n",
    "\n",
    "a = int(5) #integer conversion\n",
    "b = str(\"akhil\") # string conversion\n",
    "c = float(20.6) #float conversion\n",
    "d = complex(1j)\n",
    "e = list((\"akhil\",\"athul\")) #list conversion please make sure that list barckerts are () like this\n",
    "f = tuple((\"akhil\",\"athul\")) #please note that list conversion is exactly same for tuple conversion\n",
    "g =  range(6) # this conversion is also same as the declaration of range\n",
    "i = dict(name=\"akhil\",age=21) # dict conversion \n",
    "j = set((\"Akhil\",\"Athul\"))\n",
    "k = frozenset((\"akhil\",\"athul\"))\n",
    "l = bool(5) #here is sample of boolean conversion we will get true value\n",
    "m = bytes(5) #bytes conversion\n",
    "n = bytearray(5)\n",
    "o = memoryview(bytes(5))\n",
    "\n",
    "\n",
    "\n",
    "# print(l)\n",
    "\n",
    "z=type(o)\n",
    "\n",
    "print(z)\n",
    "\n",
    "# --------------------------------In programming, data type is an important concept.-------------------------------------\n",
    "\n",
    "\n",
    "\n",
    "# Variables can store data of different types, and different types can do different things.\n",
    "# Python has the following data types built-in by default, in these categories:\n",
    "\n",
    "# Text Type:\tstr\n",
    "# Numeric Types:\tint, float, complex\n",
    "# Sequence Types:\tlist, tuple, range\n",
    "# Mapping Type:\tdict\n",
    "# Set Types:\tset, frozenset\n",
    "# Boolean Type:\tbool\n",
    "# Binary Types:\tbytes, bytearray, memoryview\n",
    "# None Type:\tNoneType\n",
    "\n",
    "\n",
    "\n",
    "# --------------------------------------Getting the datatype ----------------------------------------------------------\n",
    "# print(n)\n",
    "\n",
    "# print(type(n))\n",
    "\n",
    "print(type(a),type(carname))"
   ]
  },
  {
   "cell_type": "code",
   "execution_count": 5,
   "id": "605d1e02",
   "metadata": {},
   "outputs": [
    {
     "name": "stdout",
     "output_type": "stream",
     "text": [
      "Hello\n",
      " hello\n",
      "akhil\n",
      "lets \n",
      "check \n",
      "multiline strings\n"
     ]
    }
   ],
   "source": [
    "# ---------------------------------------# Stings in python-------------------------------------------------------------\n",
    "\n",
    "# Basic string example\n",
    "\n",
    "a = \"Hello\"\n",
    "print(a)\n",
    "\n",
    "#Multiline String\n",
    "\n",
    "b = \"\"\" hello\n",
    "akhil\n",
    "lets \n",
    "check \n",
    "multiline strings\"\"\"\n",
    "\n",
    "print(b)\n"
   ]
  },
  {
   "cell_type": "code",
   "execution_count": 7,
   "id": "58dae6ed",
   "metadata": {},
   "outputs": [
    {
     "name": "stdout",
     "output_type": "stream",
     "text": [
      "H\n"
     ]
    }
   ],
   "source": [
    "# ------------------------------------------------# Strings are Arrays--------------------------------------------------------\n",
    "\n",
    "# Like many other popular programming languages, strings in Python are arrays of bytes representing unicode characters.\n",
    "\n",
    "# However, Python does not have a character data type, a single character is simply a string with a length of 1.\n",
    "\n",
    "# Square brackets can be used to access elements of the string.\n",
    "\n",
    "a = \"Hello\"\n",
    "\n",
    "print(a[0])\n"
   ]
  },
  {
   "cell_type": "code",
   "execution_count": 18,
   "id": "c0b4eab7",
   "metadata": {},
   "outputs": [
    {
     "name": "stdout",
     "output_type": "stream",
     "text": [
      "a\n",
      "a\n",
      "a\n",
      "a\n",
      "a\n",
      "a\n"
     ]
    }
   ],
   "source": [
    "# ---------------------------------------# Looping through string--------------------------------------------------------\n",
    "\n",
    "for i in \"banana\" :\n",
    "    print(a)\n",
    "    \n",
    "# here it will loop through the entire word banana\n",
    "# here we can use it to loop and print a particular value inside the keyword in range only \n",
    "#any other values print in error\n"
   ]
  },
  {
   "cell_type": "code",
   "execution_count": 29,
   "id": "96c4a243",
   "metadata": {},
   "outputs": [
    {
     "name": "stdout",
     "output_type": "stream",
     "text": [
      "5\n",
      "True\n",
      "the keyword is not found in variabla a\n",
      "athul is not found in variable a\n"
     ]
    }
   ],
   "source": [
    "# ----------------------------------------------# String Operations-------------------------------------------------------------\n",
    "\n",
    "# length of the string \n",
    "\n",
    "a = \"akhil\"\n",
    "print(len(a))\n",
    "\n",
    "#checking the string contain the word\n",
    "\n",
    "a = \"hello my name is Akhil Binu\"\n",
    "print(\"name\" in a)\n",
    "\n",
    "#here we will get output as true because the keyword name is available in the variable\n",
    "\n",
    "#checking the string contain the word using if condition\n",
    "\n",
    "a = \"hello my name is Akhil Binu\"\n",
    "if \"athul\" in a:\n",
    "    print(\"the key word is found in variable a\")\n",
    "else:\n",
    "    print(\"the keyword is not found in variabla a\")\n",
    "\n",
    "\n",
    "# checking the string is not found\n",
    "\n",
    "a = \"hello my name is akhil binu\"\n",
    "if \"name\" not in a:\n",
    "    print(\"the keyword is not found in variable a\")\n",
    "    \n",
    "#here we doesn't get output because here name is found in variable a\n",
    "\n",
    "a = \"hello my name is Akhil Binu\"\n",
    "if \"Athul\" not in a:\n",
    "    print(\"athul is not found in variable a\")"
   ]
  },
  {
   "cell_type": "code",
   "execution_count": 34,
   "id": "2c07edd9",
   "metadata": {},
   "outputs": [
    {
     "name": "stdout",
     "output_type": "stream",
     "text": [
      "hil\n",
      "Akhil\n",
      "Binu\n"
     ]
    }
   ],
   "source": [
    "# -----------------------------------------------Sring Slicing Operations-----------------------------------------------------\n",
    "\n",
    "#string slicing can be performed in different \n",
    "\n",
    "a = \"AkhilBinu\"\n",
    "\n",
    "#slicing the string in between a range\n",
    "\n",
    "print(a[2:5]) #here it will print thre letters in the array ranging from 2 to 4\n",
    "\n",
    "#Slicing from start\n",
    "\n",
    "print(a[:5]) # here it will slice from start to end with formula (n-1) that is from 0 to 4 here\n",
    "\n",
    "#Slicing from range to end\n",
    "\n",
    "print(a[5:]) #in case of end there is no end formula (n-1) here\n"
   ]
  },
  {
   "cell_type": "code",
   "execution_count": 36,
   "id": "302c92f4",
   "metadata": {},
   "outputs": [
    {
     "name": "stdout",
     "output_type": "stream",
     "text": [
      "lBi\n"
     ]
    }
   ],
   "source": [
    "# ------------------------------------------# Negative Indexing---------------------------------------------------------------\n",
    "\n",
    "# Use negative indexes to start the slice from the end of the string\n",
    "\n",
    "a = \"AkhilBinu\"\n",
    "\n",
    "print(a[-5:-2]) # for negative higher should be in left side  and the right lower\n",
    "\n",
    "#in a reverse way\n",
    "\n",
    "# A  k  h  i  l  B  i  n u\n",
    "#-8 -7 -6 -5 -4 -3 -2 -1 0\n",
    "\n",
    " #see the above to "
   ]
  },
  {
   "cell_type": "code",
   "execution_count": null,
   "id": "9ab891a4",
   "metadata": {},
   "outputs": [],
   "source": []
  }
 ],
 "metadata": {
  "kernelspec": {
   "display_name": "Python 3 (ipykernel)",
   "language": "python",
   "name": "python3"
  },
  "language_info": {
   "codemirror_mode": {
    "name": "ipython",
    "version": 3
   },
   "file_extension": ".py",
   "mimetype": "text/x-python",
   "name": "python",
   "nbconvert_exporter": "python",
   "pygments_lexer": "ipython3",
   "version": "3.11.4"
  }
 },
 "nbformat": 4,
 "nbformat_minor": 5
}
