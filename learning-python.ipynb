{
 "cells": [
  {
   "cell_type": "code",
   "execution_count": 3,
   "id": "f40e696b",
   "metadata": {},
   "outputs": [
    {
     "name": "stdout",
     "output_type": "stream",
     "text": [
      "hello world\n"
     ]
    }
   ],
   "source": [
    "print('hello world') #sample program\n"
   ]
  },
  {
   "cell_type": "code",
   "execution_count": 9,
   "id": "337618b9",
   "metadata": {},
   "outputs": [
    {
     "name": "stdout",
     "output_type": "stream",
     "text": [
      "5 is greater\n",
      "5 is greater than 2\n"
     ]
    }
   ],
   "source": [
    "# Python was designed for readability, and has some similarities to the English language with influence from mathematics.\n",
    "# Python uses new lines to complete a command, as opposed to other programming languages which often use semicolons or \n",
    "# parentheses.\n",
    "# Python relies on indentation, using whitespace, to define scope; such as the scope of loops, functions and classes. \n",
    "# Other programming languages often use curly-brackets for this purpose. \n",
    "\n",
    "if 5>2 :\n",
    "    print('5 is greater')\n",
    "\n",
    "if 5>2 :\n",
    "      print('5 is greater than 2')"
   ]
  },
  {
   "cell_type": "code",
   "execution_count": 18,
   "id": "7d937f9b",
   "metadata": {},
   "outputs": [
    {
     "name": "stdout",
     "output_type": "stream",
     "text": [
      "5 hello world\n"
     ]
    }
   ],
   "source": [
    "x=5\n",
    "y=\"hello world\" # in string we can use either single or double quotes\n",
    "print(x,y) # concatenation is not possible if the data types are different \n"
   ]
  },
  {
   "cell_type": "code",
   "execution_count": 19,
   "id": "a0a02d27",
   "metadata": {},
   "outputs": [
    {
     "name": "stdout",
     "output_type": "stream",
     "text": [
      "4 akhil binu\n"
     ]
    }
   ],
   "source": [
    "a=4\n",
    "A='akhil binu'\n",
    "print(a,A) # python is case sensitive a will not overwritten in uppercase A"
   ]
  },
  {
   "cell_type": "code",
   "execution_count": 23,
   "id": "714ab2b0",
   "metadata": {},
   "outputs": [],
   "source": [
    "# Variable rule in python\n",
    "\n",
    "# A variable name must start with a letter or the underscore character\n",
    "# A variable name cannot start with a number\n",
    "# A variable name can only contain alpha-numeric characters and underscores (A-z, 0-9, and _ )\n",
    "# Variable names are case-sensitive (age, Age and AGE are three different variables)\n",
    "# A variable name cannot be any of the Python keywords.\n",
    "\n",
    "myvar=2\n",
    "_myvar=5\n",
    "_my_Var=10\n",
    "myVar2 = 20\n",
    "Myvar = 30\n",
    "MYVAR = 20\n",
    "\n",
    "# -------------------------------# Variable names with more than one word can be difficult to read.-----------------------------\n",
    "\n",
    "# There are several techniques you can use to make them more readable:\n",
    "\n",
    "# Camel Case\n",
    "# Each word, except the first, starts with a capital letter:\n",
    "\n",
    "myVariableName = \"John\"\n",
    "\n",
    "# Pascal Case\n",
    "# Each word starts with a capital letter:\n",
    "\n",
    "MyVariableName = \"John\"\n",
    "\n",
    "# Snake Case\n",
    "# Each word is separated by an underscore character:\n",
    "\n",
    "my_variable_name = \"John\"\n",
    "\n",
    "#i think pascal case is a better choice in case of python"
   ]
  },
  {
   "cell_type": "code",
   "execution_count": 2,
   "id": "12ef1bef",
   "metadata": {},
   "outputs": [
    {
     "name": "stdout",
     "output_type": "stream",
     "text": [
      "apple orange banana\n"
     ]
    }
   ],
   "source": [
    "x,y,z = 'apple','orange','banana' #we can use this method to assgn value\n",
    "print(x,y,z)"
   ]
  },
  {
   "cell_type": "code",
   "execution_count": 4,
   "id": "67f5a326",
   "metadata": {},
   "outputs": [
    {
     "name": "stdout",
     "output_type": "stream",
     "text": [
      "orange orange orange\n"
     ]
    }
   ],
   "source": [
    "#another way of declaring variables\n",
    "\n",
    "x = y = z = 'orange' # here x,y,z has contain same value orange\n",
    "\n",
    "print(x,y,z)"
   ]
  },
  {
   "cell_type": "code",
   "execution_count": 13,
   "id": "9ae081d9",
   "metadata": {},
   "outputs": [
    {
     "name": "stdout",
     "output_type": "stream",
     "text": [
      "apple orange banana\n"
     ]
    }
   ],
   "source": [
    "# Unpack a Collection\n",
    "\n",
    "# If you have a collection of values in a list, tuple etc. Python allows you to extract the values into variables. \n",
    "# This is called unpacking.\n",
    "\n",
    "# lets unpack a list\n",
    "\n",
    "\n",
    "MyFruits = ['apple','orange','banana']\n",
    "\n",
    "x,y,z = MyFruits #to unpack a list we must declare variable for all other values otherwise it will result in error\n",
    "# also not that decalaring a single variable it will assign the value only\n",
    "\n",
    "# n,k = MyFruits # check this to see error\n",
    "\n",
    "# print(n)\n",
    "\n",
    "print(x,y,z)\n"
   ]
  },
  {
   "cell_type": "code",
   "execution_count": 18,
   "id": "820170b7",
   "metadata": {},
   "outputs": [
    {
     "name": "stdout",
     "output_type": "stream",
     "text": [
      "30\n",
      "pythonisawesome\n"
     ]
    }
   ],
   "source": [
    "#concatenation in python\n",
    "\n",
    "x = \"python\"\n",
    "y = \"is\"\n",
    "z=  \"awesome\"\n",
    "\n",
    "\n",
    "# let see concatenation here the sign + symbol here is work as mathematical operator and joins the string \n",
    "\n",
    "#if both are number it will perform mathematical operation addition\n",
    "\n",
    "a=10\n",
    "b=20\n",
    "\n",
    "print(a+b) # here is  an example in case of integers\n",
    "\n",
    "print(x+y+z) # all the data type should be otherwise result in error in case of concatenation only"
   ]
  },
  {
   "cell_type": "code",
   "execution_count": 17,
   "id": "03b17b1f",
   "metadata": {},
   "outputs": [
    {
     "name": "stdout",
     "output_type": "stream",
     "text": [
      "python is awesome 3\n"
     ]
    }
   ],
   "source": [
    "x=\"python\"\n",
    "y=\"is\"\n",
    "z=\"awesome\"\n",
    "k= 3\n",
    "\n",
    "print(x,y,z,k) #here we can use all type of dataypes"
   ]
  },
  {
   "cell_type": "code",
   "execution_count": 23,
   "id": "95327421",
   "metadata": {},
   "outputs": [
    {
     "name": "stdout",
     "output_type": "stream",
     "text": [
      "hello Akhil Binu welcome to python programming\n"
     ]
    }
   ],
   "source": [
    " # ----------------------------------------Global Variables-----------------------------------------------------------------\n",
    "\n",
    "# Variables that are created outside of a function (as in all of the examples above) are known as global variables.\n",
    "# Global variables can be used by everyone, both inside and outside of functions.\n",
    "\n",
    "x=\"Akhil Binu\"\n",
    "\n",
    "def MyFunc():\n",
    "    print(\"hello \"+x+\" welcome to python programming\")\n",
    "\n",
    "MyFunc()\n"
   ]
  },
  {
   "cell_type": "code",
   "execution_count": 28,
   "id": "0f96e19d",
   "metadata": {},
   "outputs": [
    {
     "name": "stdout",
     "output_type": "stream",
     "text": [
      "here the vale of x is akhil is a good boy\n",
      "awesome\n"
     ]
    }
   ],
   "source": [
    "# -----------------------------------------Function Example------------------------------------------------------------------\n",
    "x = \"awesome\"\n",
    "\n",
    "def MyFunc():\n",
    "    x =\"akhil is a good boy\"\n",
    "    print(\"here the vale of x is \"+x)\n",
    "\n",
    "MyFunc()\n",
    "\n",
    "print(x)\n"
   ]
  },
  {
   "cell_type": "code",
   "execution_count": 27,
   "id": "da4cce4a",
   "metadata": {},
   "outputs": [
    {
     "name": "stdout",
     "output_type": "stream",
     "text": [
      "value inside function is :  akhil binu\n",
      "value outside function is :  akhil binu\n"
     ]
    }
   ],
   "source": [
    "#declaration of global variable inside a function using global keyword\n",
    "\n",
    "def MyFunc():\n",
    "    global x # we can't directly assign value to global x it will result in syntax error\n",
    "    x = \"akhil binu\"\n",
    "    print(\"value inside function is : \",x)\n",
    "\n",
    "MyFunc()\n",
    "\n",
    "print(\"value outside function is : \",x)"
   ]
  },
  {
   "cell_type": "code",
   "execution_count": 60,
   "id": "9a1c124a",
   "metadata": {},
   "outputs": [
    {
     "name": "stdout",
     "output_type": "stream",
     "text": [
      "None\n",
      "<class 'NoneType'>\n",
      "<class 'int'> <class 'str'>\n"
     ]
    }
   ],
   "source": [
    "# ------------------------------------------python variables------------------------------------------------------------\n",
    "\n",
    "carname=\"Volvo\" # string\n",
    "a = 5 #integer\n",
    "b = 20.6 # float\n",
    "c = 1j #complex\n",
    "d = [\"akhil\",\"athul\",\"ajith\",\"binu\"] #list\n",
    "e = ('akhil','athul') #tuple\n",
    "f = range(6) # range\n",
    "g = {\"name\" : \"Akhil Binu\" , \"Age\" : 21} #dictionary\n",
    "h = {\"akhil\",\"athul\"} # set\n",
    "i = frozenset({\"akhil\",\"athul\"}) # frozenset\n",
    "j = True #boolean use uppercase T & F in case of boolean value\n",
    "k = b\"Hello\"\n",
    "l = bytearray(5)\n",
    "m = memoryview(bytes(5))\n",
    "n = None # use uppercase in case of None datatype also\n",
    "\n",
    "\n",
    "\n",
    "\n",
    "\n",
    "\n",
    "# --------------------------------In programming, data type is an important concept.-------------------------------------\n",
    "\n",
    "\n",
    "# Variables can store data of different types, and different types can do different things.\n",
    "# Python has the following data types built-in by default, in these categories:\n",
    "\n",
    "# Text Type:\tstr\n",
    "# Numeric Types:\tint, float, complex\n",
    "# Sequence Types:\tlist, tuple, range\n",
    "# Mapping Type:\tdict\n",
    "# Set Types:\tset, frozenset\n",
    "# Boolean Type:\tbool\n",
    "# Binary Types:\tbytes, bytearray, memoryview\n",
    "# None Type:\tNoneType\n",
    "\n",
    "\n",
    "\n",
    "# --------------------------------------Getting the datatype ----------------------------------------------------------\n",
    "print(n)\n",
    "\n",
    "print(type(n))\n",
    "\n",
    "print(type(a),type(carname))"
   ]
  },
  {
   "cell_type": "code",
   "execution_count": null,
   "id": "605d1e02",
   "metadata": {},
   "outputs": [],
   "source": []
  },
  {
   "cell_type": "code",
   "execution_count": null,
   "id": "58dae6ed",
   "metadata": {},
   "outputs": [],
   "source": []
  }
 ],
 "metadata": {
  "kernelspec": {
   "display_name": "Python 3 (ipykernel)",
   "language": "python",
   "name": "python3"
  },
  "language_info": {
   "codemirror_mode": {
    "name": "ipython",
    "version": 3
   },
   "file_extension": ".py",
   "mimetype": "text/x-python",
   "name": "python",
   "nbconvert_exporter": "python",
   "pygments_lexer": "ipython3",
   "version": "3.11.4"
  }
 },
 "nbformat": 4,
 "nbformat_minor": 5
}
