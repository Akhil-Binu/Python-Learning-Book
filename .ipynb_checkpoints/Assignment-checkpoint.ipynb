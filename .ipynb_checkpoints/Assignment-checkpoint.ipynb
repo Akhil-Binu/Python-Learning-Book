{
 "cells": [
  {
   "cell_type": "code",
   "execution_count": 1,
   "id": "e92091c4",
   "metadata": {},
   "outputs": [
    {
     "name": "stdout",
     "output_type": "stream",
     "text": [
      "Enter a Character : a\n",
      "a\n"
     ]
    }
   ],
   "source": [
    "char = input(\"Enter a Character : \")[0]\n",
    "print(char)"
   ]
  },
  {
   "cell_type": "code",
   "execution_count": 2,
   "id": "fa7a8aca",
   "metadata": {},
   "outputs": [
    {
     "name": "stdout",
     "output_type": "stream",
     "text": [
      "Enter a number: 10\n",
      "Enter another number : 20\n",
      "Sum of two numbers is sum :  30\n"
     ]
    }
   ],
   "source": [
    "num1 = int(input(\"Enter a number: \"))\n",
    "num2 = int(input(\"Enter another number : \"))\n",
    "sum = num1 + num2\n",
    "print(\"Sum of two numbers is sum : \",sum)"
   ]
  },
  {
   "cell_type": "code",
   "execution_count": 3,
   "id": "e5a94a14",
   "metadata": {},
   "outputs": [
    {
     "name": "stdout",
     "output_type": "stream",
     "text": [
      "Enter principle Amount : 6000\n",
      "Enter interest rate : 6\n",
      "Enter the number of years : 2\n",
      "Simple interest is :  720.0\n"
     ]
    }
   ],
   "source": [
    "#Simple interest program\n",
    "\n",
    "p = int(input(\"Enter principle Amount : \"))\n",
    "R = float(input(\"Enter interest rate : \"))\n",
    "n = float(input(\"Enter the number of years : \"))\n",
    "SI = (p*R*n)/100\n",
    "print(\"Simple interest is : \",SI)"
   ]
  },
  {
   "cell_type": "code",
   "execution_count": 5,
   "id": "8c243dde",
   "metadata": {},
   "outputs": [
    {
     "name": "stdout",
     "output_type": "stream",
     "text": [
      "Enter your marks : 49\n",
      "You are failed in exam \n"
     ]
    }
   ],
   "source": [
    "#pass or fail\n",
    "mark=float(input(\"Enter your marks : \"))\n",
    "if mark>50:\n",
    "    print(\"You have passed in exam \")\n",
    "else:\n",
    "    print(\"You are failed in exam \")"
   ]
  },
  {
   "cell_type": "code",
   "execution_count": 16,
   "id": "718e71b3",
   "metadata": {},
   "outputs": [
    {
     "name": "stdout",
     "output_type": "stream",
     "text": [
      "Enter your marks : 94\n",
      "your grade is A\n"
     ]
    }
   ],
   "source": [
    "mark = float(input(\"Enter your marks : \"))\n",
    "if mark > 90 :\n",
    "    print(\"your grade is A\")\n",
    "elif (mark>80 and mark<89) :\n",
    "    print(\"Your grade is B\")\n",
    "elif (mark > 70 and mark<79):\n",
    "    print(\"your grade is C\")\n",
    "elif (mark>60 and mark< 69 ):\n",
    "    print(\"your grade is D\")\n",
    "elif (mark>50 and mark< 59 ):\n",
    "    print(\"Your grade is E\")\n",
    "else:\n",
    "    print(\"You failed in exam\")"
   ]
  },
  {
   "cell_type": "code",
   "execution_count": null,
   "id": "fc2815cc",
   "metadata": {},
   "outputs": [],
   "source": [
    "number=int(input(\"Enter a number in between 1 to 7 : \"))\n",
    "def num(number):\n",
    "    if(number==1):\n",
    "        print(\"Sunday\")\n",
    "    elif(number==2):\n",
    "        print(\"monday\")\n",
    "    elif(number==3):\n",
    "        print(\"tuesday\")\n",
    "    elif(number==4):\n",
    "        print(\"wedneday\")\n",
    "    elif(number==5):\n",
    "        print(\"Thurday\")\n",
    "    elif(number==6):\n",
    "        print(\"Friday\")\n",
    "    elif(number==7):\n",
    "        print(\"Saturday\")\n",
    "    else:\n",
    "        print(\"please enter a number between 1 to 7 \")"
   ]
  },
  {
   "cell_type": "code",
   "execution_count": null,
   "id": "727309bf",
   "metadata": {},
   "outputs": [],
   "source": []
  }
 ],
 "metadata": {
  "kernelspec": {
   "display_name": "Python 3 (ipykernel)",
   "language": "python",
   "name": "python3"
  },
  "language_info": {
   "codemirror_mode": {
    "name": "ipython",
    "version": 3
   },
   "file_extension": ".py",
   "mimetype": "text/x-python",
   "name": "python",
   "nbconvert_exporter": "python",
   "pygments_lexer": "ipython3",
   "version": "3.11.4"
  }
 },
 "nbformat": 4,
 "nbformat_minor": 5
}
