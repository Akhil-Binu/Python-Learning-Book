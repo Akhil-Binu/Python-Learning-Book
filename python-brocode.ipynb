{
 "cells": [
  {
   "cell_type": "code",
   "execution_count": 2,
   "id": "d7576885",
   "metadata": {},
   "outputs": [],
   "source": [
    "# here the tutorial followed is \n",
    "\n",
    "# Python Full Course for free 🐍 --  https://www.youtube.com/watch?v=XKHEtdqhLK8&t"
   ]
  },
  {
   "cell_type": "code",
   "execution_count": 3,
   "id": "4f3909ef-63b5-4b5f-aa57-d484a0c0c0f5",
   "metadata": {},
   "outputs": [
    {
     "name": "stdout",
     "output_type": "stream",
     "text": [
      " I Love You Akhil \n"
     ]
    }
   ],
   "source": [
    "#to print something in terminal\n",
    "\n",
    "print(' I Love You Akhil ')\n"
   ]
  },
  {
   "cell_type": "code",
   "execution_count": 2,
   "id": "fb31d93e",
   "metadata": {},
   "outputs": [
    {
     "name": "stdout",
     "output_type": "stream",
     "text": [
      "Akhil\n",
      "hello Akhil\n",
      "AkhilBinu\n"
     ]
    }
   ],
   "source": [
    "# variable - variable is a conatiner for a value . behave depends upon value it hold or contain\n",
    "\n",
    "\n",
    "# Variable types \n",
    "\n",
    "#string - which contain a  series of characters\n",
    "\n",
    "name = 'Akhil'\n",
    "print(name) # if we write something inside single or double quotes in print statement will print exactly that\n",
    "            # so if your are printing a string make sure to variable make sure to avoid single and double quotes\n",
    "\n",
    "\n",
    "print(\"hello \"+name) # to combine two variable both variable should be of same data type otherwise result in error\n",
    "\n",
    "#if we use two words for naming a variable use snake case and seperate them with a underscore all the letters shoulb be lowercase\n",
    "#example is shown below\n",
    "\n",
    "first_name = 'Akhil'\n",
    "last_name = 'Binu'\n",
    "\n",
    "full_name = first_name+last_name\n",
    "\n",
    "print(full_name)\n",
    "\n",
    "\n",
    "\n",
    "\n"
   ]
  }
 ],
 "metadata": {
  "kernelspec": {
   "display_name": "Python 3 (ipykernel)",
   "language": "python",
   "name": "python3"
  },
  "language_info": {
   "codemirror_mode": {
    "name": "ipython",
    "version": 3
   },
   "file_extension": ".py",
   "mimetype": "text/x-python",
   "name": "python",
   "nbconvert_exporter": "python",
   "pygments_lexer": "ipython3",
   "version": "3.11.4"
  }
 },
 "nbformat": 4,
 "nbformat_minor": 5
}
