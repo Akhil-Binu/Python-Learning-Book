{
 "cells": [
  {
   "cell_type": "code",
   "execution_count": 2,
   "id": "d7576885",
   "metadata": {},
   "outputs": [],
   "source": [
    "# here the tutorial followed is \n",
    "\n",
    "# Python Full Course for free 🐍 --  https://www.youtube.com/watch?v=XKHEtdqhLK8&t"
   ]
  },
  {
   "cell_type": "code",
   "execution_count": 3,
   "id": "4f3909ef-63b5-4b5f-aa57-d484a0c0c0f5",
   "metadata": {},
   "outputs": [
    {
     "name": "stdout",
     "output_type": "stream",
     "text": [
      " I Love You Akhil \n"
     ]
    }
   ],
   "source": [
    "#to print something in terminal\n",
    "\n",
    "print(' I Love You Akhil ')\n"
   ]
  },
  {
   "cell_type": "code",
   "execution_count": null,
   "id": "fb31d93e",
   "metadata": {},
   "outputs": [],
   "source": [
    "# variable - variable is a conatiner for a value . behave depends upon value it hold or contain\n",
    "\n"
   ]
  }
 ],
 "metadata": {
  "kernelspec": {
   "display_name": "Python 3 (ipykernel)",
   "language": "python",
   "name": "python3"
  },
  "language_info": {
   "codemirror_mode": {
    "name": "ipython",
    "version": 3
   },
   "file_extension": ".py",
   "mimetype": "text/x-python",
   "name": "python",
   "nbconvert_exporter": "python",
   "pygments_lexer": "ipython3",
   "version": "3.11.4"
  }
 },
 "nbformat": 4,
 "nbformat_minor": 5
}
