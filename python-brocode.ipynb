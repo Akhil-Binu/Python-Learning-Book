{
 "cells": [
  {
   "cell_type": "code",
   "execution_count": 2,
   "id": "d7576885",
   "metadata": {},
   "outputs": [],
   "source": [
    "# here the tutorial followed is \n",
    "\n",
    "# Python Full Course for free 🐍 --  https://www.youtube.com/watch?v=XKHEtdqhLK8&t"
   ]
  },
  {
   "cell_type": "code",
   "execution_count": 3,
   "id": "4f3909ef-63b5-4b5f-aa57-d484a0c0c0f5",
   "metadata": {},
   "outputs": [
    {
     "name": "stdout",
     "output_type": "stream",
     "text": [
      " I Love You Akhil \n"
     ]
    }
   ],
   "source": [
    "#to print something in terminal\n",
    "\n",
    "print(' I Love You Akhil ')\n"
   ]
  },
  {
   "cell_type": "code",
   "execution_count": 9,
   "id": "fb31d93e",
   "metadata": {},
   "outputs": [
    {
     "name": "stdout",
     "output_type": "stream",
     "text": [
      "Akhil\n",
      "hello Akhil\n",
      "AkhilBinu\n",
      "22\n",
      "<class 'int'>\n",
      "30\n",
      "pythonisawesome\n",
      "['akhil', 'athul', 'akku', 'vishnu']\n"
     ]
    }
   ],
   "source": [
    "# variable - variable is a conatiner for a value . behave depends upon value it hold or contain\n",
    "\n",
    "\n",
    "# Variable types \n",
    "\n",
    "#string - which contain a  series of characters\n",
    "\n",
    "name = 'Akhil'\n",
    "print(name) # if we write something inside single or double quotes in print statement will print exactly that\n",
    "            # so if your are printing a string make sure to variable make sure to avoid single and double quotes\n",
    "\n",
    "\n",
    "print(\"hello \"+name) # to combine two variable both variable should be of same data type otherwise result in error\n",
    "                     #in most of the time string is not used in any mathematical operations\n",
    "\n",
    "#if we use two words for naming a variable use snake case and seperate them with a underscore all the letters shoulb be lowercase\n",
    "#example is shown below\n",
    "\n",
    "first_name = 'Akhil'\n",
    "last_name = 'Binu'\n",
    "\n",
    "full_name = first_name+last_name\n",
    "\n",
    "print(full_name)\n",
    "\n",
    "#if we declaring integer variable don't use double or single quotes this will result in error\n",
    "# if we use double python will consider it as string\n",
    "\n",
    "\n",
    "age = 21 \n",
    "age += 1 #Unary operator in python \n",
    "#age = age + 1 // traditional method \n",
    "print(age)\n",
    "\n",
    "#now lets print datatype of variable age\n",
    "\n",
    "print(type(age)) # type function is used to print type of variable\n",
    "\n",
    "#concatenation in python\n",
    "\n",
    "x = \"python\"\n",
    "y = \"is\"\n",
    "z=  \"awesome\"\n",
    "\n",
    "\n",
    "# let see concatenation here the sign + symbol here is work as mathematical operator and joins the string \n",
    "\n",
    "#if both are number it will perform mathematical operation addition\n",
    "\n",
    "a=10\n",
    "b=20\n",
    "\n",
    "print(a+b) # here is  an example in case of integers\n",
    "\n",
    "print(x+y+z) # all the data type should be otherwise result in error in case of concatenation only\n",
    "\n",
    "#if we try to concat different types of data type this will result in error(type error)\n",
    "#conversion of one type pf data type into another is called type casting\n",
    "\n",
    "\n",
    "\n",
    "\n",
    "\n"
   ]
  },
  {
   "cell_type": "code",
   "execution_count": null,
   "id": "31f0fc4a",
   "metadata": {},
   "outputs": [],
   "source": []
  }
 ],
 "metadata": {
  "kernelspec": {
   "display_name": "Python 3 (ipykernel)",
   "language": "python",
   "name": "python3"
  },
  "language_info": {
   "codemirror_mode": {
    "name": "ipython",
    "version": 3
   },
   "file_extension": ".py",
   "mimetype": "text/x-python",
   "name": "python",
   "nbconvert_exporter": "python",
   "pygments_lexer": "ipython3",
   "version": "3.11.4"
  }
 },
 "nbformat": 4,
 "nbformat_minor": 5
}
