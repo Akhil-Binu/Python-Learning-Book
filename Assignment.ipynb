{
 "cells": [
  {
   "cell_type": "code",
   "execution_count": 1,
   "id": "86bc44e9",
   "metadata": {},
   "outputs": [
    {
     "name": "stdout",
     "output_type": "stream",
     "text": [
      "Enter a Character : a\n",
      "a\n"
     ]
    }
   ],
   "source": [
    "char = input(\"Enter a Character : \")[0]\n",
    "print(char)"
   ]
  },
  {
   "cell_type": "code",
   "execution_count": 2,
   "id": "65edd9b3",
   "metadata": {},
   "outputs": [
    {
     "name": "stdout",
     "output_type": "stream",
     "text": [
      "Enter a number: 10\n",
      "Enter another number : 20\n",
      "Sum of two numbers is sum :  30\n"
     ]
    }
   ],
   "source": [
    "num1 = int(input(\"Enter a number: \"))\n",
    "num2 = int(input(\"Enter another number : \"))\n",
    "sum = num1 + num2\n",
    "print(\"Sum of two numbers is sum : \",sum)"
   ]
  },
  {
   "cell_type": "code",
   "execution_count": null,
   "id": "83d2bca2",
   "metadata": {},
   "outputs": [],
   "source": [
    "#Simple interest program\n",
    "\n",
    "p = int(input(\"Enter principle Amount : \"))\n",
    "R = float(input(\"Enter interest rate : \"))\n",
    "n = float(input(\"Enter the number of years : \"))\n",
    "SI = (p*R*n)/100\n",
    "print(\"Simple interest is : \",SI)"
   ]
  },
  {
   "cell_type": "code",
   "execution_count": null,
   "id": "b3d69a7f",
   "metadata": {},
   "outputs": [],
   "source": [
    "#pass or fail\n",
    "mark=float(input(\"Enter your marks : \"))\n",
    "if mark>50:\n",
    "    print(\"You have passed in exam \")\n",
    "else:\n",
    "    print(\"You are failed in exam \")"
   ]
  },
  {
   "cell_type": "code",
   "execution_count": 1,
   "id": "b7d20468",
   "metadata": {},
   "outputs": [
    {
     "name": "stdout",
     "output_type": "stream",
     "text": [
      "Enter your marks : 95\n",
      "your grade is A\n"
     ]
    }
   ],
   "source": [
    "mark = float(input(\"Enter your marks : \"))\n",
    "if mark > 90 :\n",
    "    print(\"your grade is A\")\n",
    "elif (mark>80 and mark<89) :\n",
    "    print(\"Your grade is B\")\n",
    "elif (mark > 70 and mark<79):\n",
    "    print(\"your grade is C\")\n",
    "elif (mark>60 and mark< 69 ):\n",
    "    print(\"your grade is D\")\n",
    "elif (mark>50 and mark< 59 ):\n",
    "    print(\"Your grade is E\")\n",
    "else:\n",
    "    print(\"You failed in exam\")"
   ]
  },
  {
   "cell_type": "code",
   "execution_count": 2,
   "id": "1cd2d8a9",
   "metadata": {},
   "outputs": [
    {
     "name": "stdout",
     "output_type": "stream",
     "text": [
      "Enter a number in between 1 to 7 : 5\n",
      "Thurday\n"
     ]
    }
   ],
   "source": [
    "\n",
    "number=int(input(\"Enter a number in between 1 to 7 : \"))\n",
    "\n",
    "def num(number):\n",
    "    if(number==1):\n",
    "        print(\"Sunday\")\n",
    "    elif(number==2):\n",
    "        print(\"monday\")\n",
    "    elif(number==3):\n",
    "        print(\"tuesday\")\n",
    "    elif(number==4):\n",
    "        print(\"wedneday\")\n",
    "    elif(number==5):\n",
    "        print(\"Thurday\")\n",
    "    elif(number==6):\n",
    "        print(\"Friday\")\n",
    "    elif(number==7):\n",
    "        print(\"Saturday\")\n",
    "    else:\n",
    "        print(\"please enter a number between 1 to 7 \")\n",
    "num(number)"
   ]
  },
  {
   "cell_type": "code",
   "execution_count": 8,
   "id": "3d086d4b",
   "metadata": {},
   "outputs": [
    {
     "name": "stdout",
     "output_type": "stream",
     "text": [
      "Enter a number to print multiplication table : 5\n",
      "1 * 5 = 5\n",
      "2 * 5 = 10\n",
      "3 * 5 = 15\n",
      "4 * 5 = 20\n",
      "5 * 5 = 25\n",
      "6 * 5 = 30\n",
      "7 * 5 = 35\n",
      "8 * 5 = 40\n",
      "9 * 5 = 45\n",
      "10 * 5 = 50\n"
     ]
    }
   ],
   "source": [
    "num = int(input(\"Enter a number to print multiplication table : \"))\n",
    "for i in range(1,11):\n",
    "    result = num * i\n",
    "    print(i,\"*\",num,\"=\",result)\n"
   ]
  },
  {
   "cell_type": "code",
   "execution_count": 15,
   "id": "2e35347a",
   "metadata": {},
   "outputs": [
    {
     "name": "stdout",
     "output_type": "stream",
     "text": [
      "1\n",
      "\n",
      "12\n",
      "\n",
      "123\n",
      "\n",
      "1234\n",
      "\n",
      "12345\n",
      "\n"
     ]
    }
   ],
   "source": [
    "for i in range(1,6):\n",
    "    for j in range(1,6):\n",
    "        print(j,end=\"\")\n",
    "        if(i==j):\n",
    "            print(\"\\n\")\n",
    "            break;\n",
    "            "
   ]
  },
  {
   "cell_type": "code",
   "execution_count": null,
   "id": "530ae03e",
   "metadata": {},
   "outputs": [],
   "source": []
  },
  {
   "cell_type": "code",
   "execution_count": null,
   "id": "d096b1af",
   "metadata": {},
   "outputs": [],
   "source": []
  }
 ],
 "metadata": {
  "kernelspec": {
   "display_name": "Python 3 (ipykernel)",
   "language": "python",
   "name": "python3"
  },
  "language_info": {
   "codemirror_mode": {
    "name": "ipython",
    "version": 3
   },
   "file_extension": ".py",
   "mimetype": "text/x-python",
   "name": "python",
   "nbconvert_exporter": "python",
   "pygments_lexer": "ipython3",
   "version": "3.11.4"
  }
 },
 "nbformat": 4,
 "nbformat_minor": 5
}
