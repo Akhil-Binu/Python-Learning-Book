{
 "cells": [
  {
   "cell_type": "code",
   "execution_count": 1,
   "id": "66f96052",
   "metadata": {},
   "outputs": [
    {
     "name": "stdout",
     "output_type": "stream",
     "text": [
      "Enter a Character : a\n",
      "a\n"
     ]
    }
   ],
   "source": [
    "char = input(\"Enter a Character : \")[0]\n",
    "print(char)"
   ]
  },
  {
   "cell_type": "code",
   "execution_count": 2,
   "id": "627af32d",
   "metadata": {},
   "outputs": [
    {
     "name": "stdout",
     "output_type": "stream",
     "text": [
      "Enter a number: 10\n",
      "Enter another number : 20\n",
      "Sum of two numbers is sum :  30\n"
     ]
    }
   ],
   "source": [
    "num1 = int(input(\"Enter a number: \"))\n",
    "num2 = int(input(\"Enter another number : \"))\n",
    "sum = num1 + num2\n",
    "print(\"Sum of two numbers is sum : \",sum)"
   ]
  },
  {
   "cell_type": "code",
   "execution_count": 3,
   "id": "be5677a2",
   "metadata": {},
   "outputs": [
    {
     "name": "stdout",
     "output_type": "stream",
     "text": [
      "Enter principle Amount : 6000\n",
      "Enter interest rate : 6\n",
      "Enter the number of years : 2\n",
      "Simple interest is :  720.0\n"
     ]
    }
   ],
   "source": [
    "#Simple interest program\n",
    "\n",
    "p = int(input(\"Enter principle Amount : \"))\n",
    "R = float(input(\"Enter interest rate : \"))\n",
    "n = float(input(\"Enter the number of years : \"))\n",
    "SI = (p*R*n)/100\n",
    "print(\"Simple interest is : \",SI)"
   ]
  },
  {
   "cell_type": "code",
   "execution_count": 5,
   "id": "b15640e3",
   "metadata": {},
   "outputs": [
    {
     "name": "stdout",
     "output_type": "stream",
     "text": [
      "Enter your marks : 49\n",
      "You are failed in exam \n"
     ]
    }
   ],
   "source": [
    "#pass or fail\n",
    "mark=float(input(\"Enter your marks : \"))\n",
    "if mark>50:\n",
    "    print(\"You have passed in exam \")\n",
    "else:\n",
    "    print(\"You are failed in exam \")"
   ]
  },
  {
   "cell_type": "code",
   "execution_count": 16,
   "id": "a7ef25a3",
   "metadata": {},
   "outputs": [
    {
     "name": "stdout",
     "output_type": "stream",
     "text": [
      "Enter your marks : 94\n",
      "your grade is A\n"
     ]
    }
   ],
   "source": [
    "mark = float(input(\"Enter your marks : \"))\n",
    "if mark > 90 :\n",
    "    print(\"your grade is A\")\n",
    "elif (mark>80 and mark<89) :\n",
    "    print(\"Your grade is B\")\n",
    "elif (mark > 70 and mark<79):\n",
    "    print(\"your grade is C\")\n",
    "elif (mark>60 and mark< 69 ):\n",
    "    print(\"your grade is D\")\n",
    "elif (mark>50 and mark< 59 ):\n",
    "    print(\"Your grade is E\")\n",
    "else:\n",
    "    print(\"You failed in exam\")"
   ]
  },
  {
   "cell_type": "code",
   "execution_count": null,
   "id": "fcb869e5",
   "metadata": {},
   "outputs": [],
   "source": []
  },
  {
   "cell_type": "code",
   "execution_count": null,
   "id": "e819557c",
   "metadata": {},
   "outputs": [],
   "source": []
  }
 ],
 "metadata": {
  "kernelspec": {
   "display_name": "Python 3 (ipykernel)",
   "language": "python",
   "name": "python3"
  },
  "language_info": {
   "codemirror_mode": {
    "name": "ipython",
    "version": 3
   },
   "file_extension": ".py",
   "mimetype": "text/x-python",
   "name": "python",
   "nbconvert_exporter": "python",
   "pygments_lexer": "ipython3",
   "version": "3.11.4"
  }
 },
 "nbformat": 4,
 "nbformat_minor": 5
}
